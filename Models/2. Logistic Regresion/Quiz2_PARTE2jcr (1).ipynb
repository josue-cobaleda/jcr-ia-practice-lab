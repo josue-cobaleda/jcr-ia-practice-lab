{
  "cells": [
    {
      "cell_type": "markdown",
      "metadata": {
        "vscode": {
          "languageId": "plaintext"
        },
        "id": "M-lv0Yiut5Qz"
      },
      "source": [
        "# **Universidad ICESI**\n",
        "\n",
        "Aprendizaje Automático I"
      ]
    },
    {
      "cell_type": "markdown",
      "metadata": {
        "id": "fAlQkrcft5Q1"
      },
      "source": [
        "# Quiz 2 - Parte 2\n",
        "\n",
        "**Objetivo:**  \n",
        "Implementar y evaluar un modelo de regresión logística utilizando un dataset de clasificación de scikit‑learn. Deberás completar los bloques de código indicados, responder preguntas y justificar tus decisiones.\n",
        "\n",
        "**Temas a evaluar:**\n",
        "\n",
        "- Carga y exploración de datos  \n",
        "- Normalización de características  \n",
        "- Entrenamiento de un modelo de regresión logística  \n",
        "- Evaluación del rendimiento (matriz de confusión, accuracy, curva ROC y AUC)  \n",
        "- Interpretación de coeficientes y resultados\n",
        "\n",
        "**Instrucciones Generales:**\n",
        "\n",
        "1. Lee detenidamente cada sección y sigue las instrucciones proporcionadas.  \n",
        "2. Completa los espacios indicados con tu código y comentarios que expliquen tus decisiones.  \n",
        "3. Responde las preguntas de reflexión al final del examen en celdas Markdown adicionales.  \n",
        "4. Se evaluará la calidad del código, la claridad de los comentarios y la interpretación de los resultados.\n",
        "¡Buena suerte!"
      ]
    },
    {
      "cell_type": "markdown",
      "metadata": {
        "id": "G-KP7QV7t5Q2"
      },
      "source": [
        "## Sección 1: Preparación del Entorno\n",
        "\n",
        "**Objetivos:**  \n",
        "\n",
        "- Importar las librerías necesarias.  \n",
        "- Configurar la semilla para garantizar la reproducibilidad.\n",
        "\n",
        "**Tareas:**\n",
        "\n",
        "1. Importa `numpy`, `pandas`, `matplotlib.pyplot`, `seaborn` y las funciones necesarias de scikit‑learn.\n",
        "2. Establece una semilla aleatoria (por ejemplo, 42)."
      ]
    },
    {
      "cell_type": "code",
      "execution_count": 1,
      "metadata": {
        "id": "6gD5e4mZt5Q2"
      },
      "outputs": [],
      "source": [
        "import numpy as np\n",
        "import pandas as pd\n",
        "import matplotlib.pyplot as plt\n",
        "import seaborn as sns\n",
        "\n",
        "from sklearn.datasets import load_breast_cancer\n",
        "from sklearn.model_selection import train_test_split\n",
        "from sklearn.preprocessing import StandardScaler\n",
        "from sklearn.linear_model import LogisticRegression\n",
        "from sklearn.metrics import confusion_matrix, accuracy_score, classification_report, roc_curve, auc"
      ]
    },
    {
      "cell_type": "markdown",
      "metadata": {
        "id": "QU15F9nrt5Q3"
      },
      "source": [
        "# Configurar la semilla para reproducibilidad"
      ]
    },
    {
      "cell_type": "code",
      "execution_count": 2,
      "metadata": {
        "id": "990gs1rat5Q3"
      },
      "outputs": [],
      "source": [
        "np.random.seed(77)"
      ]
    },
    {
      "cell_type": "markdown",
      "metadata": {
        "vscode": {
          "languageId": "plaintext"
        },
        "id": "OCfumaj6t5Q3"
      },
      "source": [
        "## Sección 2: Carga y Exploración del Dataset\n",
        "\n",
        "**Objetivos:**  \n",
        "- Cargar el dataset de cáncer de mama de scikit‑learn.  \n",
        "- Convertir los datos en un DataFrame de pandas.  \n",
        "- Explorar el dataset: dimensiones, primeras filas y distribución de la variable objetivo.\n",
        "\n",
        "**Tareas:**  \n",
        "1. Utiliza la función `load_breast_cancer()` para cargar los datos.  \n",
        "2. Crea un DataFrame con las características y agrega la columna 'target'.  \n",
        "3. Muestra el tamaño del dataset, las primeras filas y la distribución de las clases.\n"
      ]
    },
    {
      "cell_type": "markdown",
      "metadata": {
        "id": "13f7RLfJt5Q3"
      },
      "source": [
        "# Completa el siguiente código:"
      ]
    },
    {
      "cell_type": "code",
      "execution_count": 9,
      "metadata": {
        "colab": {
          "base_uri": "https://localhost:8080/"
        },
        "id": "EHGOehOZt5Q4",
        "outputId": "4aa4cdf1-f2ab-48de-8974-c7fbd630387d"
      },
      "outputs": [
        {
          "output_type": "stream",
          "name": "stdout",
          "text": [
            "   mean radius  mean texture  mean perimeter  mean area  mean smoothness  \\\n",
            "0        17.99         10.38          122.80     1001.0          0.11840   \n",
            "1        20.57         17.77          132.90     1326.0          0.08474   \n",
            "2        19.69         21.25          130.00     1203.0          0.10960   \n",
            "3        11.42         20.38           77.58      386.1          0.14250   \n",
            "4        20.29         14.34          135.10     1297.0          0.10030   \n",
            "\n",
            "   mean compactness  mean concavity  mean concave points  mean symmetry  \\\n",
            "0           0.27760          0.3001              0.14710         0.2419   \n",
            "1           0.07864          0.0869              0.07017         0.1812   \n",
            "2           0.15990          0.1974              0.12790         0.2069   \n",
            "3           0.28390          0.2414              0.10520         0.2597   \n",
            "4           0.13280          0.1980              0.10430         0.1809   \n",
            "\n",
            "   mean fractal dimension  ...  worst texture  worst perimeter  worst area  \\\n",
            "0                 0.07871  ...          17.33           184.60      2019.0   \n",
            "1                 0.05667  ...          23.41           158.80      1956.0   \n",
            "2                 0.05999  ...          25.53           152.50      1709.0   \n",
            "3                 0.09744  ...          26.50            98.87       567.7   \n",
            "4                 0.05883  ...          16.67           152.20      1575.0   \n",
            "\n",
            "   worst smoothness  worst compactness  worst concavity  worst concave points  \\\n",
            "0            0.1622             0.6656           0.7119                0.2654   \n",
            "1            0.1238             0.1866           0.2416                0.1860   \n",
            "2            0.1444             0.4245           0.4504                0.2430   \n",
            "3            0.2098             0.8663           0.6869                0.2575   \n",
            "4            0.1374             0.2050           0.4000                0.1625   \n",
            "\n",
            "   worst symmetry  worst fractal dimension  target  \n",
            "0          0.4601                  0.11890       0  \n",
            "1          0.2750                  0.08902       0  \n",
            "2          0.3613                  0.08758       0  \n",
            "3          0.6638                  0.17300       0  \n",
            "4          0.2364                  0.07678       0  \n",
            "\n",
            "[5 rows x 31 columns]\n",
            "target\n",
            "1    357\n",
            "0    212\n",
            "Name: count, dtype: int64\n"
          ]
        }
      ],
      "source": [
        "data = load_breast_cancer()\n",
        "df = pd.DataFrame(data.data, columns=data.feature_names)\n",
        "df['target'] = data.target\n",
        "\n",
        "# Mostrar dimensiones y primeras filas\n",
        "print(df.head())\n",
        "\n",
        "# Distribución de la variable objetivo\n",
        "print(df['target'].value_counts())"
      ]
    },
    {
      "cell_type": "markdown",
      "metadata": {
        "vscode": {
          "languageId": "plaintext"
        },
        "id": "RT6g8b_Et5Q4"
      },
      "source": [
        "## Sección 3: Preprocesamiento y Normalización de Datos\n",
        "\n",
        "**Objetivos:**  \n",
        "\n",
        "- Separar las variables predictoras (X) y la variable respuesta (y).  \n",
        "- Dividir el dataset en conjunto de entrenamiento y prueba (70%-30%).  \n",
        "- Normalizar las características utilizando `StandardScaler`.\n",
        "\n",
        "**Tareas:**  \n",
        "\n",
        "1. Define X como todas las columnas excepto 'target' y y como la columna 'target'.  \n",
        "2. Usa `train_test_split` (con `stratify=y`) para preservar la distribución de clases.  \n",
        "3. Ajusta el escalador con el conjunto de entrenamiento y transforma ambos conjuntos."
      ]
    },
    {
      "cell_type": "markdown",
      "metadata": {
        "id": "YZGmfUtNt5Q5"
      },
      "source": [
        "# Completa el siguiente código:"
      ]
    },
    {
      "cell_type": "code",
      "execution_count": 11,
      "metadata": {
        "id": "EMD9MEaWt5Q5"
      },
      "outputs": [],
      "source": [
        "#1 Separar las variables X de la variable y\n",
        "X=df.drop(columns=['target'])\n",
        "y=df['target']\n",
        "\n",
        "#2 Dividir el dataset de entrenamiento y el prueba\n",
        "X_train, X_test, y_train, y_test = train_test_split(X, y, test_size=0.3, random_state=77, stratify=y)\n",
        "\n",
        "#3 Normalizar los datos\n",
        "scaler=StandardScaler()\n",
        "X_train=scaler.fit_transform(X_train)\n",
        "X_test=scaler.transform(X_test)"
      ]
    },
    {
      "cell_type": "markdown",
      "metadata": {
        "vscode": {
          "languageId": "plaintext"
        },
        "id": "tywTnfY4t5Q5"
      },
      "source": [
        "## Sección 4: Entrenamiento del Modelo de Regresión Logística\n",
        "\n",
        "**Objetivos:**  \n",
        "- Instanciar y entrenar el modelo de regresión logística con los datos normalizados.  \n",
        "- Visualizar y analizar los coeficientes obtenidos.\n",
        "\n",
        "**Tareas:**  \n",
        "\n",
        "1. Crea una instancia de `LogisticRegression` (sugerencia: utiliza el solver 'liblinear').  \n",
        "2. Ajusta el modelo con el conjunto de entrenamiento normalizado.  \n",
        "3. Imprime el intercepto y los coeficientes asociados a cada variable.\n",
        "4. Agrega comentarios interpretando qué significa un coeficiente positivo o negativo en este contexto."
      ]
    },
    {
      "cell_type": "markdown",
      "metadata": {
        "id": "Sv_cjelRt5Q5"
      },
      "source": [
        "# Completa el siguiente código:"
      ]
    },
    {
      "cell_type": "code",
      "execution_count": 18,
      "metadata": {
        "colab": {
          "base_uri": "https://localhost:8080/"
        },
        "id": "ycLNxZurt5Q5",
        "outputId": "2386528b-978b-401f-cf9e-28fbb8171d55"
      },
      "outputs": [
        {
          "output_type": "stream",
          "name": "stdout",
          "text": [
            "Intercepto del modelo (β0): 0.46144567949235327\n",
            "\n",
            "Coeficientes del modelo:\n",
            "                   Variable  Coeficiente\n",
            "0               mean radius    -0.531225\n",
            "1              mean texture    -0.358107\n",
            "2            mean perimeter    -0.516540\n",
            "3                 mean area    -0.519570\n",
            "4           mean smoothness     0.045024\n",
            "5          mean compactness     0.295305\n",
            "6            mean concavity    -0.928801\n",
            "7       mean concave points    -0.965095\n",
            "8             mean symmetry     0.134707\n",
            "9    mean fractal dimension     0.306161\n",
            "10             radius error    -1.019783\n",
            "11            texture error     0.306693\n",
            "12          perimeter error    -0.641568\n",
            "13               area error    -0.833469\n",
            "14         smoothness error    -0.570469\n",
            "15        compactness error     0.890181\n",
            "16          concavity error     0.010270\n",
            "17     concave points error    -0.210998\n",
            "18           symmetry error     0.522960\n",
            "19  fractal dimension error     0.760483\n",
            "20             worst radius    -0.810350\n",
            "21            worst texture    -1.379589\n",
            "22          worst perimeter    -0.650094\n",
            "23               worst area    -0.791856\n",
            "24         worst smoothness    -0.754843\n",
            "25        worst compactness    -0.109357\n",
            "26          worst concavity    -0.861624\n",
            "27     worst concave points    -0.795931\n",
            "28           worst symmetry    -1.219659\n",
            "29  worst fractal dimension     0.015100\n"
          ]
        }
      ],
      "source": [
        "#1 Instanciar el modelo\n",
        "modelo=LogisticRegression(solver='liblinear', random_state=77)\n",
        "\n",
        "#2 Entrenar el modelo con los datos\n",
        "modelo.fit(X_train, y_train)\n",
        "\n",
        "#3 Imprimir el intercepto y los coeficientes asociados\n",
        "print(\"Intercepto del modelo (β0):\", modelo.intercept_[0])\n",
        "coeficientes=pd.DataFrame({\"Variable\": X.columns,\"Coeficiente\": modelo.coef_[0]})\n",
        "print(\"\\nCoeficientes del modelo:\")\n",
        "print(coeficientes)\n"
      ]
    },
    {
      "cell_type": "markdown",
      "source": [
        "**Los coeficientes anteriores nos muestran qué: **\n",
        "\n",
        "\n",
        "*   Las variables que tienen coeficiente positivo como lo serían \"compactness error, fractal dimension error, symmetry error\" indican que aumenta la probabilidad de que el tumor sea benigno.\n",
        "*   Lo contrario pasa con las variables que tienen coeficientes negativos, como lo serían \"worst texture o worst fractal dimension\" porque esos aumentan la probabilidad de que el tumor sea maligno.\n",
        "\n"
      ],
      "metadata": {
        "id": "xuqXq9Uvxc6S"
      }
    },
    {
      "cell_type": "markdown",
      "metadata": {
        "vscode": {
          "languageId": "plaintext"
        },
        "id": "6W-p1RB7t5Q6"
      },
      "source": [
        "## Sección 5: Evaluación del Modelo\n",
        "\n",
        "**Objetivos:**  \n",
        "\n",
        "- Realizar predicciones sobre el conjunto de prueba.  \n",
        "- Evaluar el rendimiento del modelo mediante métricas (accuracy, matriz de confusión, reporte de clasificación).  \n",
        "\n",
        "\n",
        "**Tareas:**  \n",
        "\n",
        "1. Utiliza `predict` para obtener las predicciones en el conjunto de prueba.  \n",
        "2. Calcula y muestra la matriz de confusión, el accuracy y el reporte de clasificación.  \n",
        "3. Obtén las probabilidades predictivas con `predict_proba` y calcula la curva ROC y el AUC.  \n"
      ]
    },
    {
      "cell_type": "markdown",
      "metadata": {
        "id": "H_Luf9BEt5Q6"
      },
      "source": [
        "# Completa el siguiente código:"
      ]
    },
    {
      "cell_type": "code",
      "execution_count": 21,
      "metadata": {
        "colab": {
          "base_uri": "https://localhost:8080/"
        },
        "id": "WGY8GAFWt5Q6",
        "outputId": "c71abaae-913d-4c25-af91-e9ecb50cf372"
      },
      "outputs": [
        {
          "output_type": "stream",
          "name": "stdout",
          "text": [
            "\n",
            "Accuracy del modelo: 0.9883\n",
            "Matriz de Confusión:\n",
            "[[ 62   2]\n",
            " [  0 107]]\n"
          ]
        }
      ],
      "source": [
        "#1 Se realizan predicciones sobre el conjunto de prueba\n",
        "y_pred=modelo.predict(X_test)\n",
        "y_pred_proba=modelo.predict_proba(X_test)[:, 1]\n",
        "\n",
        "#2Evaluamos el rendimiento del modelo de varias formas:\n",
        "#accuracy\n",
        "accuracy=accuracy_score(y_test, y_pred)\n",
        "print(f\"\\nAccuracy del modelo: {accuracy:.4f}\")\n",
        "\n",
        "#Matriz de confusion\n",
        "matriz_confusion=confusion_matrix(y_test, y_pred)\n",
        "print(\"Matriz de Confusión:\")\n",
        "print(matriz_confusion)\n",
        "\n",
        "#3Matriz de confusión\n",
        "fpr, tpr, _ = roc_curve(y_test, y_pred_proba)\n",
        "roc_auc = auc(fpr, tpr)\n"
      ]
    },
    {
      "cell_type": "code",
      "execution_count": 23,
      "metadata": {
        "colab": {
          "base_uri": "https://localhost:8080/",
          "height": 599
        },
        "id": "1hFCTDgot5Q6",
        "outputId": "f322f937-c5f0-4139-ce17-868dc827c89a"
      },
      "outputs": [
        {
          "output_type": "display_data",
          "data": {
            "text/plain": [
              "<Figure size 800x600 with 1 Axes>"
            ],
            "image/png": "[encoded data removed]"
          },
          "metadata": {}
        },
        {
          "output_type": "stream",
          "name": "stdout",
          "text": [
            "\n",
            "Área bajo la curva (AUC): 0.9902\n"
          ]
        }
      ],
      "source": [
        "# VISUALIZA LA Matriz de confusión\n",
        "plt.figure(figsize=(8, 6))\n",
        "plt.plot(fpr, tpr, color='blue', lw=2, label=f'Curva ROC (AUC = {roc_auc:.4f})')\n",
        "plt.plot([0, 1], [0, 1], color='gray', linestyle='--')  # Línea diagonal de referencia\n",
        "plt.xlabel('Tasa de Falsos Positivos (FPR)')\n",
        "plt.ylabel('Tasa de Verdaderos Positivos (TPR)')\n",
        "plt.title('Curva ROC')\n",
        "plt.legend(loc='lower right')\n",
        "plt.show()\n",
        "\n",
        "print(f\"\\nÁrea bajo la curva (AUC): {roc_auc:.4f}\")"
      ]
    },
    {
      "cell_type": "markdown",
      "metadata": {
        "vscode": {
          "languageId": "plaintext"
        },
        "id": "3v8hR9zKt5Q6"
      },
      "source": [
        "## Sección 6: Reflexiones y Preguntas Abiertas\n",
        "\n",
        "**Instrucciones:**  \n",
        "\n",
        "Responde en celdas Markdown separadas (o en comentarios) las siguientes preguntas:\n",
        "1. **Interpretación de Coeficientes:**  \n",
        "   - ¿Qué implica que una variable tenga un coeficiente positivo en el contexto de la regresión logística?  \n",
        "   - ¿Cómo se relaciona este coeficiente con la probabilidad de que la observación pertenezca a la clase positiva?\n",
        "2. **Normalización:**  \n",
        "   - Explica la importancia de normalizar las características antes de entrenar un modelo de regresión logística.\n",
        "3. **Curva ROC:**  \n",
        "   - ¿Qué representa la curva ROC?  \n",
        "   - ¿Qué significa tener un AUC cercano a 1 en términos de rendimiento del modelo?\n",
        "4. **Sobreajuste (Overfitting):**  \n",
        "   - Menciona dos estrategias que pueden ayudar a prevenir el sobreajuste en modelos de clasificación.\n",
        "\n",
        "**Consejo:** Justifica tus respuestas y relaciona los conceptos teóricos con los resultados obtenidos en este ejercicio."
      ]
    },
    {
      "cell_type": "markdown",
      "metadata": {
        "vscode": {
          "languageId": "plaintext"
        },
        "id": "hXi-1NLgt5Q6"
      },
      "source": [
        "# Fin!\n",
        "\n",
        "Revisa que todas las celdas se ejecuten sin errores y asegúrate de que tus respuestas y comentarios sean claros y completos.\n",
        "\n",
        "¡Éxito en tu evaluación!\n"
      ]
    }
  ],
  "metadata": {
    "kernelspec": {
      "display_name": "Python 3 (ipykernel)",
      "language": "python",
      "name": "python3"
    },
    "language_info": {
      "codemirror_mode": {
        "name": "ipython",
        "version": 3
      },
      "file_extension": ".py",
      "mimetype": "text/x-python",
      "name": "python",
      "nbconvert_exporter": "python",
      "pygments_lexer": "ipython3",
      "version": "3.10.14"
    },
    "colab": {
      "provenance": []
    }
  },
  "nbformat": 4,
  "nbformat_minor": 0
}